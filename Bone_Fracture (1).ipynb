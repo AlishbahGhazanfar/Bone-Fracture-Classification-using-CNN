{
  "nbformat": 4,
  "nbformat_minor": 0,
  "metadata": {
    "colab": {
      "provenance": [],
      "gpuType": "T4"
    },
    "kernelspec": {
      "name": "python3",
      "display_name": "Python 3"
    },
    "language_info": {
      "name": "python"
    },
    "accelerator": "GPU"
  },
  "cells": [
    {
      "cell_type": "code",
      "execution_count": null,
      "metadata": {
        "id": "ZavgawYhsSni"
      },
      "outputs": [],
      "source": [
        "import numpy as np\n",
        "import tensorflow as tf\n",
        "from tensorflow.keras.models import Sequential\n",
        "from tensorflow.keras.layers import Conv2D, MaxPooling2D, Flatten, Dense"
      ]
    },
    {
      "cell_type": "code",
      "source": [
        "from tensorflow.keras.preprocessing.image import ImageDataGenerator\n",
        "\n",
        "# Define the paths to your train and validation dataset directories\n",
        "train_dataset_path =  r'/content/drive/MyDrive/archive (6)/train'\n",
        "validation_dataset_path =r\"/content/drive/MyDrive/archive (6)/val\"\n",
        "\n",
        "# Define the image dimensions and other parameters\n",
        "image_width = 128\n",
        "image_height = 128\n",
        "batch_size = 32\n",
        "\n",
        "# Use ImageDataGenerator to load and preprocess the datasets\n",
        "datagen = ImageDataGenerator(rescale=1.0/255.0)  # Normalization\n",
        "\n",
        "train_dataset = datagen.flow_from_directory(\n",
        "    train_dataset_path,\n",
        "    target_size=(image_width, image_height),\n",
        "    batch_size=batch_size,\n",
        "    class_mode='binary'  # Adjust based on your dataset classes\n",
        ")\n",
        "\n",
        "validation_dataset = datagen.flow_from_directory(\n",
        "    validation_dataset_path,\n",
        "    target_size=(image_width, image_height),\n",
        "    batch_size=batch_size,\n",
        "    class_mode='binary'  # Adjust based on your dataset classes\n",
        ")\n",
        "\n",
        "# Check the shape of the loaded datasets\n",
        "print(train_dataset.image_shape)\n",
        "print(validation_dataset.image_shape)\n"
      ],
      "metadata": {
        "colab": {
          "base_uri": "https://localhost:8080/"
        },
        "id": "DFm0N0mhtef6",
        "outputId": "59403d8a-bda8-42eb-f863-1773d422270e"
      },
      "execution_count": null,
      "outputs": [
        {
          "output_type": "stream",
          "name": "stdout",
          "text": [
            "Found 8873 images belonging to 2 classes.\n",
            "Found 600 images belonging to 2 classes.\n",
            "(128, 128, 3)\n",
            "(128, 128, 3)\n"
          ]
        }
      ]
    },
    {
      "cell_type": "code",
      "source": [
        "from tensorflow.keras.layers import Conv2D, MaxPooling2D, Flatten, Dense\n",
        "from tensorflow.keras.models import Sequential\n",
        "\n",
        "# Define the dimensions and color channels of your images\n",
        "image_width = 128\n",
        "image_height = 128\n",
        "num_channels = 3\n",
        "\n",
        "# Define the model architecture\n",
        "model = Sequential()\n",
        "model.add(Conv2D(32, (3, 3), activation='relu', input_shape=(image_width, image_height, num_channels)))\n",
        "model.add(MaxPooling2D((2, 2)))\n",
        "model.add(Conv2D(64, (3, 3), activation='relu'))\n",
        "model.add(MaxPooling2D((2, 2)))\n",
        "model.add(Conv2D(128, (3, 3), activation='relu'))\n",
        "model.add(MaxPooling2D((2, 2)))\n",
        "model.add(Conv2D(256, (3, 3), activation='relu'))\n",
        "model.add(MaxPooling2D((2, 2)))\n",
        "\n",
        "model.add(Flatten())\n",
        "model.add(Dense(256, activation='relu'))\n",
        "model.add(Dense(128, activation='relu'))\n",
        "model.add(Dense(2, activation='softmax'))  # 2 classes: fracture and non-fracture\n",
        "\n",
        "# Compile the model\n",
        "model.compile(optimizer='adam', loss='sparse_categorical_crossentropy', metrics=['accuracy'])\n",
        "\n",
        "# Train the model\n",
        "history = model.fit(train_dataset, epochs=10, validation_data=validation_dataset)\n",
        "\n",
        "# Save the trained model\n",
        "model.save('fracture_detection_model.h5')\n"
      ],
      "metadata": {
        "colab": {
          "base_uri": "https://localhost:8080/"
        },
        "id": "Ki54Vbtf8zmg",
        "outputId": "50275544-4a9f-42b4-bd27-360367a8df70"
      },
      "execution_count": null,
      "outputs": [
        {
          "output_type": "stream",
          "name": "stdout",
          "text": [
            "Epoch 1/10\n",
            "278/278 [==============================] - 37s 124ms/step - loss: 0.4920 - accuracy: 0.7477 - val_loss: 0.5209 - val_accuracy: 0.7467\n",
            "Epoch 2/10\n",
            "278/278 [==============================] - 34s 122ms/step - loss: 0.1286 - accuracy: 0.9524 - val_loss: 0.6304 - val_accuracy: 0.7867\n",
            "Epoch 3/10\n",
            "278/278 [==============================] - 34s 122ms/step - loss: 0.0505 - accuracy: 0.9832 - val_loss: 0.4916 - val_accuracy: 0.8350\n",
            "Epoch 4/10\n",
            "278/278 [==============================] - 37s 134ms/step - loss: 0.0312 - accuracy: 0.9900 - val_loss: 0.7629 - val_accuracy: 0.8267\n",
            "Epoch 5/10\n",
            "278/278 [==============================] - 34s 123ms/step - loss: 0.0171 - accuracy: 0.9944 - val_loss: 0.7648 - val_accuracy: 0.8183\n",
            "Epoch 6/10\n",
            "278/278 [==============================] - 35s 126ms/step - loss: 0.0243 - accuracy: 0.9911 - val_loss: 0.9079 - val_accuracy: 0.8150\n",
            "Epoch 7/10\n",
            "278/278 [==============================] - 34s 123ms/step - loss: 0.0222 - accuracy: 0.9934 - val_loss: 0.5898 - val_accuracy: 0.8050\n",
            "Epoch 8/10\n",
            "278/278 [==============================] - 34s 121ms/step - loss: 0.0102 - accuracy: 0.9965 - val_loss: 1.0017 - val_accuracy: 0.8033\n",
            "Epoch 9/10\n",
            "278/278 [==============================] - 35s 125ms/step - loss: 0.0109 - accuracy: 0.9962 - val_loss: 0.4924 - val_accuracy: 0.8500\n",
            "Epoch 10/10\n",
            "278/278 [==============================] - 34s 123ms/step - loss: 0.0093 - accuracy: 0.9971 - val_loss: 0.8148 - val_accuracy: 0.8267\n"
          ]
        }
      ]
    },
    {
      "cell_type": "markdown",
      "source": [],
      "metadata": {
        "id": "lfc4VZnuAAog"
      }
    },
    {
      "cell_type": "code",
      "source": [
        "from tensorflow.keras.models import load_model\n",
        "from tensorflow.keras.preprocessing import image\n",
        "import numpy as np\n",
        "\n",
        "# Load the trained model\n",
        "model = load_model('fracture_detection_model.h5')\n",
        "\n",
        "# Path to the image you want to predict\n",
        "image_path = '/content/drive/MyDrive/archive (6)/val/not fractured/1-rotated1-rotated1-rotated3-rotated1.jpg'\n",
        "\n",
        "# Load and preprocess the image\n",
        "img = image.load_img(image_path, target_size=(image_width, image_height))\n",
        "img_array = image.img_to_array(img)\n",
        "img_array = np.expand_dims(img_array, axis=0)  # Add batch dimension\n",
        "img_array /= 255.0  # Normalize the image\n",
        "\n",
        "# Make predictions on the image\n",
        "predictions = model.predict(img_array)\n",
        "\n",
        "# Convert predictions to labels (fractured or non-fractured)\n",
        "labels = ['fractured', 'non-fractured']\n",
        "predicted_label = labels[np.argmax(predictions)]\n",
        "\n",
        "print(\"Predicted label:\", predicted_label)\n",
        "\n"
      ],
      "metadata": {
        "colab": {
          "base_uri": "https://localhost:8080/"
        },
        "id": "zRROqBa_-Vex",
        "outputId": "310a1eee-ed04-4b7f-93b4-afd1f16a8b95"
      },
      "execution_count": null,
      "outputs": [
        {
          "output_type": "stream",
          "name": "stdout",
          "text": [
            "1/1 [==============================] - 0s 144ms/step\n",
            "Predicted label: non-fractured\n"
          ]
        }
      ]
    }
  ]
}